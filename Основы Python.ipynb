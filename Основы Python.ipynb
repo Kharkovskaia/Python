{
 "cells": [
  {
   "cell_type": "markdown",
   "metadata": {},
   "source": [
    "# Задание 1\n",
    "\n",
    "Даны 2 переменных, в которых хранятся строки произвольной длины: phrase_1 и phrase_2.\n",
    "Напишите код, который проверяет какая из этих строк длиннее."
   ]
  },
  {
   "cell_type": "code",
   "execution_count": 10,
   "metadata": {},
   "outputs": [
    {
     "name": "stdout",
     "output_type": "stream",
     "text": [
      "Фразы равной длины\n"
     ]
    }
   ],
   "source": [
    "if len(phrase_1) > len(phrase_2):\n",
    "    print('Фраза 1 длиннее фразы 2')\n",
    "elif len(phrase_1) < len(phrase_2):\n",
    "    print('Фраза 2 длиннее фразы 1')\n",
    "else:\n",
    "    print('Фразы равной длины')"
   ]
  },
  {
   "cell_type": "markdown",
   "metadata": {},
   "source": [
    "# Задание 2\n",
    "Дана переменная, в которой хранится четырехзначное число (год). Необходимо написать программу, которая выведет, является ли данный год високосным или обычным."
   ]
  },
  {
   "cell_type": "markdown",
   "metadata": {},
   "source": [
    "Для справки: Чтобы определить, високосный год или нет, надо поделить номер года на 4 (если номер года заканчивается на два нуля, то на 400). Если делится без остатка, значит год является високосным, а если с остатком - то обычным, невисокосным."
   ]
  },
  {
   "cell_type": "code",
   "execution_count": 19,
   "metadata": {},
   "outputs": [
    {
     "name": "stdout",
     "output_type": "stream",
     "text": [
      "Високосный год\n"
     ]
    }
   ],
   "source": [
    "if year % 100 == 0:\n",
    "    if year % 400 == 0:\n",
    "        print('Високосный год')\n",
    "    else:\n",
    "        print('Обычный год')\n",
    "else:\n",
    "    if year % 4 == 0:\n",
    "        print('Високосный год')\n",
    "    else:\n",
    "        print('Обычный год')    "
   ]
  },
  {
   "cell_type": "markdown",
   "metadata": {},
   "source": [
    "# Задание 3\n",
    "Необходимо написать программу, которая будет запрашивать у пользователя месяц и дату рождения и выводить соответствующий знак зодиака."
   ]
  },
  {
   "cell_type": "code",
   "execution_count": 19,
   "metadata": {},
   "outputs": [
    {
     "name": "stdout",
     "output_type": "stream",
     "text": [
      "Введите день:31\n",
      "Введите месяц:ДЕКАбрь\n",
      "Козерог\n"
     ]
    }
   ],
   "source": [
    "import datetime\n",
    "\n",
    "day = int(input('Введите день:'))\n",
    "month = (input('Введите месяц:')).lower()\n",
    "\n",
    "months = ['январь', 'февраль', 'март', 'апрель', 'май', 'июнь', 'июль', 'август', 'сентябрь', 'октябрь', 'ноябрь', 'декабрь']\n",
    "month_number = months.index(month) + 1\n",
    "birth_date = datetime.date(2020, month_number, day)\n",
    "if datetime.date(2020, 3, 21) <= birth_date <= datetime.date(2020, 4, 20):\n",
    "    print('Овен')\n",
    "elif datetime.date(2020, 4, 21) <= birth_date <= datetime.date(2020, 5, 20):\n",
    "    print('Телец')\n",
    "elif datetime.date(2020, 5, 21) <= birth_date <= datetime.date(2020, 6, 21):\n",
    "    print('Близнецы')\n",
    "elif datetime.date(2020, 6, 22) <= birth_date <= datetime.date(2020, 7, 22):\n",
    "    print('Рак')\n",
    "elif datetime.date(2020, 7, 23) <= birth_date <= datetime.date(2020, 8, 23):\n",
    "    print('Лев')\n",
    "elif datetime.date(2020, 8, 24) <= birth_date <= datetime.date(2020, 9, 23):\n",
    "    print('Дева')\n",
    "elif datetime.date(2020, 9, 24) <= birth_date <= datetime.date(2020, 10, 23):\n",
    "    print('Весы')\n",
    "elif datetime.date(2020, 10, 24) <= birth_date <= datetime.date(2020, 11, 22):\n",
    "    print('Скорпион')\n",
    "elif datetime.date(2020, 11, 23) <= birth_date <= datetime.date(2020, 12, 21):\n",
    "    print('Стрелец')\n",
    "elif (datetime.date(2020, 12, 22) <= birth_date <= datetime.date(2020, 12, 31) or\n",
    "      datetime.date(2020, 1, 1) <= birth_date <= datetime.date(2020, 1, 20)):\n",
    "    print('Козерог')\n",
    "elif datetime.date(2020, 1, 21) <= birth_date <= datetime.date(2020, 2, 20):\n",
    "    print('Водолей')\n",
    "elif datetime.date(2020, 2, 21) <= birth_date <= datetime.date(2020, 2, 20):\n",
    "    print('Рыбы')"
   ]
  },
  {
   "cell_type": "markdown",
   "metadata": {},
   "source": [
    "# Задание 4\n",
    "Вам нужно написать программу для подбора упаковок по размерам товара. Размеры хранятся в переменных (в сантиметрах):"
   ]
  },
  {
   "cell_type": "code",
   "execution_count": 8,
   "metadata": {},
   "outputs": [
    {
     "name": "stdout",
     "output_type": "stream",
     "text": [
      "Стандартная коробка №3\n"
     ]
    }
   ],
   "source": [
    "if (width < 15) and (length < 15) and (height < 15):\n",
    "    print ('Коробка №1')\n",
    "elif (((width < 50) and (length < 15) and (height < 15)) or \n",
    "    ((width < 15) and (length < 50) and (height < 15)) or \n",
    "    ((width < 15) and (length < 15) and (height < 50))):\n",
    "    print('Коробка №2')\n",
    "elif length > 200:\n",
    "    print('Упаковка для лыж')\n",
    "else:\n",
    "    print('Стандартная коробка №3')"
   ]
  },
  {
   "cell_type": "markdown",
   "metadata": {},
   "source": [
    "# Задание 5 (необязательное)\n",
    "Дана переменная, в которой хранится шестизначное число (номер проездного билета). Напишите программу, которая будет определять, является ли данный билет “счастливым”. Билет считается счастливым, если сумма первых трех цифр совпадает с суммой последних трех цифр номера."
   ]
  },
  {
   "cell_type": "code",
   "execution_count": 23,
   "metadata": {},
   "outputs": [
    {
     "name": "stdout",
     "output_type": "stream",
     "text": [
      "Счастливый билет\n"
     ]
    }
   ],
   "source": [
    "number_string = str(number)\n",
    "if (int(number_string[0]) + int(number_string[1]) + int(number_string[2]) == \n",
    "    int(number_string[3]) + int(number_string[4]) + int(number_string[5])):\n",
    "    print('Счастливый билет')\n",
    "else:\n",
    "    print('Несчастливый билет') #В задании вывод указан с опечаткой"
   ]
  },
  {
   "cell_type": "markdown",
   "metadata": {},
   "source": [
    "# Задание 6 (необязательное)\n",
    "Напишите программу, которая сможет вычислять площади трех фигур (круг, треугольник и прямоугольник). Тип фигуры запрашиваем через пользовательский ввод, после чего делаем запрос характеристик фигуры:\n",
    "\n",
    "* если пользователь выбрал круг, запрашиваем его радиус,\n",
    "* если треугольник – длины трех его сторон;\n",
    "* если прямоугольник – длины двух его сторон."
   ]
  },
  {
   "cell_type": "code",
   "execution_count": 33,
   "metadata": {},
   "outputs": [
    {
     "name": "stdout",
     "output_type": "stream",
     "text": [
      "Введите тип фигуры: прямоугольник\n",
      "Введите длину стороны A: 2\n",
      "Введите длину стороны B: 3\n",
      "Результат:\n",
      "Площадь прямоугольник:  6.0\n"
     ]
    }
   ],
   "source": [
    "import math\n",
    "geometrical_figure = (input('Введите тип фигуры: ')).lower()\n",
    "if geometrical_figure == 'круг':\n",
    "    radius = int(input('Введите радиус круга: '))\n",
    "    print('Результат:\\nПлощадь круга:', round(math.pi * radius ** 2, 2))\n",
    "elif geometrical_figure == 'треугольник':\n",
    "    A = float(input('Введите длину стороны A: '))\n",
    "    B = float(input('Введите длину стороны B: '))\n",
    "    C = float(input('Введите длину стороны C: '))\n",
    "    p = (A + B + C) / 2\n",
    "    print('Результат:\\nПлощадь треугольника: ', round((p * (p - A) * (p - B) * (p - C)) ** (1/2), 2))\n",
    "elif geometrical_figure == 'прямоугольник':\n",
    "    A = float(input('Введите длину стороны A: '))\n",
    "    B = float(input('Введите длину стороны B: '))\n",
    "    print('Результат:\\nПлощадь прямоугольник: ', round((A * B), 2))"
   ]
  }
 ],
 "metadata": {
  "kernelspec": {
   "display_name": "Python 3",
   "language": "python",
   "name": "python3"
  },
  "language_info": {
   "codemirror_mode": {
    "name": "ipython",
    "version": 3
   },
   "file_extension": ".py",
   "mimetype": "text/x-python",
   "name": "python",
   "nbconvert_exporter": "python",
   "pygments_lexer": "ipython3",
   "version": "3.6.5"
  }
 },
 "nbformat": 4,
 "nbformat_minor": 2
}
