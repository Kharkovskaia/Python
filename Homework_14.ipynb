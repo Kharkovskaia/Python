{
 "cells": [
  {
   "cell_type": "markdown",
   "metadata": {},
   "source": [
    "# Домашнее задание к лекции \"Базовые понятия статистики\""
   ]
  },
  {
   "cell_type": "markdown",
   "metadata": {},
   "source": [
    "## Обязательная часть\n",
    "\n",
    "Будем осуществлять работу с непростым [набором данных](https://raw.githubusercontent.com/obulygin/pyda_homeworks/master/statistics_basics/horse_data.csv) о состоянии здоровья лошадей, испытывающих кишечные колики. "
   ]
  },
  {
   "cell_type": "markdown",
   "metadata": {},
   "source": [
    "### Задание 1. Базовое изучение\n",
    "\n",
    "Изучить представленный набор данных на основе [описания его столбцов](https://raw.githubusercontent.com/obulygin/pyda_homeworks/master/statistics_basics/horse_data.names) и выбрать 8 столбцов для дальнейшего изучения (среди них должны быть как числовые, так и категориальные). Провести расчет базовых метрик для них, кратко описать результаты.\n"
   ]
  },
  {
   "cell_type": "code",
   "execution_count": 1,
   "metadata": {},
   "outputs": [],
   "source": [
    "import pandas as pd\n",
    "import numpy as np"
   ]
  },
  {
   "cell_type": "code",
   "execution_count": 2,
   "metadata": {},
   "outputs": [],
   "source": [
    "#Из описания столбцов возьмем информацию о заголовках столбцов\n",
    "column_headers = ['surgery?', 'Age', 'Hospital Number', 'rectal temperature', 'pulse', 'respiratory rate', 'temperature of extremities', \n",
    "                 'peripheral pulse',  'mucous membranes', 'capillary refill time', 'pain', 'peristalsis', 'abdominal distension', \n",
    "                 'nasogastric tube', 'nasogastric reflux', 'nasogastric reflux PH', 'rectal examination', 'abdomen', 'packed cell volume',\n",
    "                 'total protein', 'bdominocentesis appearance', 'abdomcentesis total protein', 'outcome', 'surgical lesion?', 'type of lesion 1',\n",
    "                 'type of lesion 2', 'type of lesion 3', 'cp_data']"
   ]
  },
  {
   "cell_type": "code",
   "execution_count": 3,
   "metadata": {},
   "outputs": [
    {
     "data": {
      "text/html": [
       "<div>\n",
       "<style scoped>\n",
       "    .dataframe tbody tr th:only-of-type {\n",
       "        vertical-align: middle;\n",
       "    }\n",
       "\n",
       "    .dataframe tbody tr th {\n",
       "        vertical-align: top;\n",
       "    }\n",
       "\n",
       "    .dataframe thead th {\n",
       "        text-align: right;\n",
       "    }\n",
       "</style>\n",
       "<table border=\"1\" class=\"dataframe\">\n",
       "  <thead>\n",
       "    <tr style=\"text-align: right;\">\n",
       "      <th></th>\n",
       "      <th>surgery?</th>\n",
       "      <th>Age</th>\n",
       "      <th>Hospital Number</th>\n",
       "      <th>rectal temperature</th>\n",
       "      <th>pulse</th>\n",
       "      <th>respiratory rate</th>\n",
       "      <th>temperature of extremities</th>\n",
       "      <th>peripheral pulse</th>\n",
       "      <th>mucous membranes</th>\n",
       "      <th>capillary refill time</th>\n",
       "      <th>...</th>\n",
       "      <th>packed cell volume</th>\n",
       "      <th>total protein</th>\n",
       "      <th>bdominocentesis appearance</th>\n",
       "      <th>abdomcentesis total protein</th>\n",
       "      <th>outcome</th>\n",
       "      <th>surgical lesion?</th>\n",
       "      <th>type of lesion 1</th>\n",
       "      <th>type of lesion 2</th>\n",
       "      <th>type of lesion 3</th>\n",
       "      <th>cp_data</th>\n",
       "    </tr>\n",
       "  </thead>\n",
       "  <tbody>\n",
       "    <tr>\n",
       "      <th>0</th>\n",
       "      <td>2.0</td>\n",
       "      <td>1</td>\n",
       "      <td>530101</td>\n",
       "      <td>38.5</td>\n",
       "      <td>66.0</td>\n",
       "      <td>28.0</td>\n",
       "      <td>3.0</td>\n",
       "      <td>3.0</td>\n",
       "      <td>NaN</td>\n",
       "      <td>2.0</td>\n",
       "      <td>...</td>\n",
       "      <td>45.0</td>\n",
       "      <td>8.4</td>\n",
       "      <td>NaN</td>\n",
       "      <td>NaN</td>\n",
       "      <td>2.0</td>\n",
       "      <td>2</td>\n",
       "      <td>11300</td>\n",
       "      <td>0</td>\n",
       "      <td>0</td>\n",
       "      <td>2</td>\n",
       "    </tr>\n",
       "    <tr>\n",
       "      <th>1</th>\n",
       "      <td>1.0</td>\n",
       "      <td>1</td>\n",
       "      <td>534817</td>\n",
       "      <td>39.2</td>\n",
       "      <td>88.0</td>\n",
       "      <td>20.0</td>\n",
       "      <td>NaN</td>\n",
       "      <td>NaN</td>\n",
       "      <td>4.0</td>\n",
       "      <td>1.0</td>\n",
       "      <td>...</td>\n",
       "      <td>50.0</td>\n",
       "      <td>85.0</td>\n",
       "      <td>2.0</td>\n",
       "      <td>2.0</td>\n",
       "      <td>3.0</td>\n",
       "      <td>2</td>\n",
       "      <td>2208</td>\n",
       "      <td>0</td>\n",
       "      <td>0</td>\n",
       "      <td>2</td>\n",
       "    </tr>\n",
       "    <tr>\n",
       "      <th>2</th>\n",
       "      <td>2.0</td>\n",
       "      <td>1</td>\n",
       "      <td>530334</td>\n",
       "      <td>38.3</td>\n",
       "      <td>40.0</td>\n",
       "      <td>24.0</td>\n",
       "      <td>1.0</td>\n",
       "      <td>1.0</td>\n",
       "      <td>3.0</td>\n",
       "      <td>1.0</td>\n",
       "      <td>...</td>\n",
       "      <td>33.0</td>\n",
       "      <td>6.7</td>\n",
       "      <td>NaN</td>\n",
       "      <td>NaN</td>\n",
       "      <td>1.0</td>\n",
       "      <td>2</td>\n",
       "      <td>0</td>\n",
       "      <td>0</td>\n",
       "      <td>0</td>\n",
       "      <td>1</td>\n",
       "    </tr>\n",
       "    <tr>\n",
       "      <th>3</th>\n",
       "      <td>1.0</td>\n",
       "      <td>9</td>\n",
       "      <td>5290409</td>\n",
       "      <td>39.1</td>\n",
       "      <td>164.0</td>\n",
       "      <td>84.0</td>\n",
       "      <td>4.0</td>\n",
       "      <td>1.0</td>\n",
       "      <td>6.0</td>\n",
       "      <td>2.0</td>\n",
       "      <td>...</td>\n",
       "      <td>48.0</td>\n",
       "      <td>7.2</td>\n",
       "      <td>3.0</td>\n",
       "      <td>5.3</td>\n",
       "      <td>2.0</td>\n",
       "      <td>1</td>\n",
       "      <td>2208</td>\n",
       "      <td>0</td>\n",
       "      <td>0</td>\n",
       "      <td>1</td>\n",
       "    </tr>\n",
       "    <tr>\n",
       "      <th>4</th>\n",
       "      <td>2.0</td>\n",
       "      <td>1</td>\n",
       "      <td>530255</td>\n",
       "      <td>37.3</td>\n",
       "      <td>104.0</td>\n",
       "      <td>35.0</td>\n",
       "      <td>NaN</td>\n",
       "      <td>NaN</td>\n",
       "      <td>6.0</td>\n",
       "      <td>2.0</td>\n",
       "      <td>...</td>\n",
       "      <td>74.0</td>\n",
       "      <td>7.4</td>\n",
       "      <td>NaN</td>\n",
       "      <td>NaN</td>\n",
       "      <td>2.0</td>\n",
       "      <td>2</td>\n",
       "      <td>4300</td>\n",
       "      <td>0</td>\n",
       "      <td>0</td>\n",
       "      <td>2</td>\n",
       "    </tr>\n",
       "  </tbody>\n",
       "</table>\n",
       "<p>5 rows × 28 columns</p>\n",
       "</div>"
      ],
      "text/plain": [
       "   surgery?  Age  Hospital Number  rectal temperature  pulse  \\\n",
       "0       2.0    1           530101                38.5   66.0   \n",
       "1       1.0    1           534817                39.2   88.0   \n",
       "2       2.0    1           530334                38.3   40.0   \n",
       "3       1.0    9          5290409                39.1  164.0   \n",
       "4       2.0    1           530255                37.3  104.0   \n",
       "\n",
       "   respiratory rate  temperature of extremities  peripheral pulse  \\\n",
       "0              28.0                         3.0               3.0   \n",
       "1              20.0                         NaN               NaN   \n",
       "2              24.0                         1.0               1.0   \n",
       "3              84.0                         4.0               1.0   \n",
       "4              35.0                         NaN               NaN   \n",
       "\n",
       "   mucous membranes  capillary refill time  ...  packed cell volume  \\\n",
       "0               NaN                    2.0  ...                45.0   \n",
       "1               4.0                    1.0  ...                50.0   \n",
       "2               3.0                    1.0  ...                33.0   \n",
       "3               6.0                    2.0  ...                48.0   \n",
       "4               6.0                    2.0  ...                74.0   \n",
       "\n",
       "   total protein  bdominocentesis appearance  abdomcentesis total protein  \\\n",
       "0            8.4                         NaN                          NaN   \n",
       "1           85.0                         2.0                          2.0   \n",
       "2            6.7                         NaN                          NaN   \n",
       "3            7.2                         3.0                          5.3   \n",
       "4            7.4                         NaN                          NaN   \n",
       "\n",
       "   outcome  surgical lesion?  type of lesion 1  type of lesion 2  \\\n",
       "0      2.0                 2             11300                 0   \n",
       "1      3.0                 2              2208                 0   \n",
       "2      1.0                 2                 0                 0   \n",
       "3      2.0                 1              2208                 0   \n",
       "4      2.0                 2              4300                 0   \n",
       "\n",
       "   type of lesion 3  cp_data  \n",
       "0                 0        2  \n",
       "1                 0        2  \n",
       "2                 0        1  \n",
       "3                 0        1  \n",
       "4                 0        2  \n",
       "\n",
       "[5 rows x 28 columns]"
      ]
     },
     "execution_count": 3,
     "metadata": {},
     "output_type": "execute_result"
    }
   ],
   "source": [
    "# Загрузим исходный датафрейм и возьмем ранее полученные наименования столбцов\n",
    "df = pd.read_csv('https://raw.githubusercontent.com/obulygin/pyda_homeworks/master/statistics_basics/horse_data.csv', names=column_headers, na_values='?')\n",
    "df.head()"
   ]
  },
  {
   "cell_type": "code",
   "execution_count": 4,
   "metadata": {},
   "outputs": [
    {
     "name": "stdout",
     "output_type": "stream",
     "text": [
      "<class 'pandas.core.frame.DataFrame'>\n",
      "RangeIndex: 300 entries, 0 to 299\n",
      "Data columns (total 28 columns):\n",
      " #   Column                       Non-Null Count  Dtype  \n",
      "---  ------                       --------------  -----  \n",
      " 0   surgery?                     299 non-null    float64\n",
      " 1   Age                          300 non-null    int64  \n",
      " 2   Hospital Number              300 non-null    int64  \n",
      " 3   rectal temperature           240 non-null    float64\n",
      " 4   pulse                        276 non-null    float64\n",
      " 5   respiratory rate             242 non-null    float64\n",
      " 6   temperature of extremities   244 non-null    float64\n",
      " 7   peripheral pulse             231 non-null    float64\n",
      " 8   mucous membranes             253 non-null    float64\n",
      " 9   capillary refill time        268 non-null    float64\n",
      " 10  pain                         245 non-null    float64\n",
      " 11  peristalsis                  256 non-null    float64\n",
      " 12  abdominal distension         244 non-null    float64\n",
      " 13  nasogastric tube             196 non-null    float64\n",
      " 14  nasogastric reflux           194 non-null    float64\n",
      " 15  nasogastric reflux PH        53 non-null     float64\n",
      " 16  rectal examination           198 non-null    float64\n",
      " 17  abdomen                      182 non-null    float64\n",
      " 18  packed cell volume           271 non-null    float64\n",
      " 19  total protein                267 non-null    float64\n",
      " 20  bdominocentesis appearance   135 non-null    float64\n",
      " 21  abdomcentesis total protein  102 non-null    float64\n",
      " 22  outcome                      299 non-null    float64\n",
      " 23  surgical lesion?             300 non-null    int64  \n",
      " 24  type of lesion 1             300 non-null    int64  \n",
      " 25  type of lesion 2             300 non-null    int64  \n",
      " 26  type of lesion 3             300 non-null    int64  \n",
      " 27  cp_data                      300 non-null    int64  \n",
      "dtypes: float64(21), int64(7)\n",
      "memory usage: 65.8 KB\n"
     ]
    }
   ],
   "source": [
    "# Получем информацию о типах значений в каждой колонке\n",
    "df.info()"
   ]
  },
  {
   "cell_type": "markdown",
   "metadata": {},
   "source": [
    "По условиям задания требуется выбрать 8 столбцов для дальнейшего обучения (среди них должны быть как числовые, так и категориальные). Для дальнеушего изучения выберем следующие столбцы:\n",
    "* \"surgery?\" - предоставляет информацию о том была ли произведена операция лошади. Если указана 1, то ему сделали операцию. Если указана 2, то лошадь лечилась без хирургического вмешательства.\n",
    "* \"Age\" - предоставляет информацию о возврасте животного. Если указана 1, то лошади старше 6 месяцев. Если указана 2, то лошади моложе 6 месяцев.\n",
    "* \"Hospital Number\" - предоставляет информацию о числовом индификаторе лошади. Если лошадь ранее проходила лечение, но числовой индификатор не уникален.\n",
    "* \"capillary refill time\" - предоставляет информацию о времени наполнения капиляров. Чем оно больше, тем хуже циркуляция крови. Если указана 1, то время менее 3 секунд (не включая 3 секунды). Если указана 2, то время более или равно 3 секундам.\n",
    "* \"packed cell volume\" - предоставляет информацию об общем объеме эритроцитов. Данный показатель линейный и повышается по мере нарушения кровообращения или обезвоживания животного. Нормальное значение от 30 до 50.\n",
    "* \"total protein\" - предоставляет информацию об уровне общего белка в крови. Данный показатель линейный. Чем выше значение, тем больше обезвоживание. Нормальное значение находится в диапазоне 6-7,5 (гмс/дЛ).\n",
    "* \"outcome\" - предоставляет информация об итогах лечения. Если указана 1, то лошадь осталась жива. Если указана 2, то лошадь умерла. Если указана 3, то лошадь усыпили.\n",
    "* \"cp_data\" - предоставляет информацию о наличии паталогии в указанном случае. Если указана 1, то патология имелась. Если указана 2, то паталогия не была выявлена.\n"
   ]
  },
  {
   "cell_type": "code",
   "execution_count": 5,
   "metadata": {},
   "outputs": [
    {
     "data": {
      "text/html": [
       "<div>\n",
       "<style scoped>\n",
       "    .dataframe tbody tr th:only-of-type {\n",
       "        vertical-align: middle;\n",
       "    }\n",
       "\n",
       "    .dataframe tbody tr th {\n",
       "        vertical-align: top;\n",
       "    }\n",
       "\n",
       "    .dataframe thead th {\n",
       "        text-align: right;\n",
       "    }\n",
       "</style>\n",
       "<table border=\"1\" class=\"dataframe\">\n",
       "  <thead>\n",
       "    <tr style=\"text-align: right;\">\n",
       "      <th></th>\n",
       "      <th>surgery?</th>\n",
       "      <th>Age</th>\n",
       "      <th>Hospital Number</th>\n",
       "      <th>capillary refill time</th>\n",
       "      <th>packed cell volume</th>\n",
       "      <th>total protein</th>\n",
       "      <th>outcome</th>\n",
       "      <th>cp_data</th>\n",
       "    </tr>\n",
       "  </thead>\n",
       "  <tbody>\n",
       "    <tr>\n",
       "      <th>0</th>\n",
       "      <td>2.0</td>\n",
       "      <td>1</td>\n",
       "      <td>530101</td>\n",
       "      <td>2.0</td>\n",
       "      <td>45.0</td>\n",
       "      <td>8.4</td>\n",
       "      <td>2.0</td>\n",
       "      <td>2</td>\n",
       "    </tr>\n",
       "    <tr>\n",
       "      <th>1</th>\n",
       "      <td>1.0</td>\n",
       "      <td>1</td>\n",
       "      <td>534817</td>\n",
       "      <td>1.0</td>\n",
       "      <td>50.0</td>\n",
       "      <td>85.0</td>\n",
       "      <td>3.0</td>\n",
       "      <td>2</td>\n",
       "    </tr>\n",
       "    <tr>\n",
       "      <th>2</th>\n",
       "      <td>2.0</td>\n",
       "      <td>1</td>\n",
       "      <td>530334</td>\n",
       "      <td>1.0</td>\n",
       "      <td>33.0</td>\n",
       "      <td>6.7</td>\n",
       "      <td>1.0</td>\n",
       "      <td>1</td>\n",
       "    </tr>\n",
       "    <tr>\n",
       "      <th>3</th>\n",
       "      <td>1.0</td>\n",
       "      <td>9</td>\n",
       "      <td>5290409</td>\n",
       "      <td>2.0</td>\n",
       "      <td>48.0</td>\n",
       "      <td>7.2</td>\n",
       "      <td>2.0</td>\n",
       "      <td>1</td>\n",
       "    </tr>\n",
       "    <tr>\n",
       "      <th>4</th>\n",
       "      <td>2.0</td>\n",
       "      <td>1</td>\n",
       "      <td>530255</td>\n",
       "      <td>2.0</td>\n",
       "      <td>74.0</td>\n",
       "      <td>7.4</td>\n",
       "      <td>2.0</td>\n",
       "      <td>2</td>\n",
       "    </tr>\n",
       "  </tbody>\n",
       "</table>\n",
       "</div>"
      ],
      "text/plain": [
       "   surgery?  Age  Hospital Number  capillary refill time  packed cell volume  \\\n",
       "0       2.0    1           530101                    2.0                45.0   \n",
       "1       1.0    1           534817                    1.0                50.0   \n",
       "2       2.0    1           530334                    1.0                33.0   \n",
       "3       1.0    9          5290409                    2.0                48.0   \n",
       "4       2.0    1           530255                    2.0                74.0   \n",
       "\n",
       "   total protein  outcome  cp_data  \n",
       "0            8.4      2.0        2  \n",
       "1           85.0      3.0        2  \n",
       "2            6.7      1.0        1  \n",
       "3            7.2      2.0        1  \n",
       "4            7.4      2.0        2  "
      ]
     },
     "execution_count": 5,
     "metadata": {},
     "output_type": "execute_result"
    }
   ],
   "source": [
    "# Составим датафрейм из выбранных столбцов\n",
    "information_about_horses = df[['surgery?', 'Age', 'Hospital Number', 'capillary refill time', 'packed cell volume', 'total protein', 'outcome', 'cp_data']].copy()\n",
    "information_about_horses.head()"
   ]
  },
  {
   "cell_type": "code",
   "execution_count": 6,
   "metadata": {},
   "outputs": [
    {
     "name": "stdout",
     "output_type": "stream",
     "text": [
      "<class 'pandas.core.frame.DataFrame'>\n",
      "RangeIndex: 300 entries, 0 to 299\n",
      "Data columns (total 8 columns):\n",
      " #   Column                 Non-Null Count  Dtype  \n",
      "---  ------                 --------------  -----  \n",
      " 0   surgery?               299 non-null    float64\n",
      " 1   Age                    300 non-null    int64  \n",
      " 2   Hospital Number        300 non-null    int64  \n",
      " 3   capillary refill time  268 non-null    float64\n",
      " 4   packed cell volume     271 non-null    float64\n",
      " 5   total protein          267 non-null    float64\n",
      " 6   outcome                299 non-null    float64\n",
      " 7   cp_data                300 non-null    int64  \n",
      "dtypes: float64(5), int64(3)\n",
      "memory usage: 18.9 KB\n"
     ]
    }
   ],
   "source": [
    "# До подсчета базовых метрик необходимо привести каждый столбец в вид в соответствии с его описанием. Получим информацию о столбцах.\n",
    "information_about_horses.info()"
   ]
  },
  {
   "cell_type": "code",
   "execution_count": 7,
   "metadata": {},
   "outputs": [
    {
     "data": {
      "text/html": [
       "<div>\n",
       "<style scoped>\n",
       "    .dataframe tbody tr th:only-of-type {\n",
       "        vertical-align: middle;\n",
       "    }\n",
       "\n",
       "    .dataframe tbody tr th {\n",
       "        vertical-align: top;\n",
       "    }\n",
       "\n",
       "    .dataframe thead th {\n",
       "        text-align: right;\n",
       "    }\n",
       "</style>\n",
       "<table border=\"1\" class=\"dataframe\">\n",
       "  <thead>\n",
       "    <tr style=\"text-align: right;\">\n",
       "      <th></th>\n",
       "      <th>surgery?</th>\n",
       "      <th>Age</th>\n",
       "      <th>Hospital Number</th>\n",
       "      <th>capillary refill time</th>\n",
       "      <th>packed cell volume</th>\n",
       "      <th>total protein</th>\n",
       "      <th>outcome</th>\n",
       "      <th>cp_data</th>\n",
       "    </tr>\n",
       "  </thead>\n",
       "  <tbody>\n",
       "    <tr>\n",
       "      <th>count</th>\n",
       "      <td>299.000000</td>\n",
       "      <td>300.000000</td>\n",
       "      <td>3.000000e+02</td>\n",
       "      <td>268.000000</td>\n",
       "      <td>271.000000</td>\n",
       "      <td>267.000000</td>\n",
       "      <td>299.000000</td>\n",
       "      <td>300.000000</td>\n",
       "    </tr>\n",
       "    <tr>\n",
       "      <th>mean</th>\n",
       "      <td>1.397993</td>\n",
       "      <td>1.640000</td>\n",
       "      <td>1.085889e+06</td>\n",
       "      <td>1.305970</td>\n",
       "      <td>46.295203</td>\n",
       "      <td>24.456929</td>\n",
       "      <td>1.551839</td>\n",
       "      <td>1.670000</td>\n",
       "    </tr>\n",
       "    <tr>\n",
       "      <th>std</th>\n",
       "      <td>0.490305</td>\n",
       "      <td>2.173972</td>\n",
       "      <td>1.529801e+06</td>\n",
       "      <td>0.477629</td>\n",
       "      <td>10.419335</td>\n",
       "      <td>27.475009</td>\n",
       "      <td>0.737187</td>\n",
       "      <td>0.470998</td>\n",
       "    </tr>\n",
       "    <tr>\n",
       "      <th>min</th>\n",
       "      <td>1.000000</td>\n",
       "      <td>1.000000</td>\n",
       "      <td>5.184760e+05</td>\n",
       "      <td>1.000000</td>\n",
       "      <td>23.000000</td>\n",
       "      <td>3.300000</td>\n",
       "      <td>1.000000</td>\n",
       "      <td>1.000000</td>\n",
       "    </tr>\n",
       "    <tr>\n",
       "      <th>25%</th>\n",
       "      <td>1.000000</td>\n",
       "      <td>1.000000</td>\n",
       "      <td>5.289040e+05</td>\n",
       "      <td>1.000000</td>\n",
       "      <td>38.000000</td>\n",
       "      <td>6.500000</td>\n",
       "      <td>1.000000</td>\n",
       "      <td>1.000000</td>\n",
       "    </tr>\n",
       "    <tr>\n",
       "      <th>50%</th>\n",
       "      <td>1.000000</td>\n",
       "      <td>1.000000</td>\n",
       "      <td>5.303055e+05</td>\n",
       "      <td>1.000000</td>\n",
       "      <td>45.000000</td>\n",
       "      <td>7.500000</td>\n",
       "      <td>1.000000</td>\n",
       "      <td>2.000000</td>\n",
       "    </tr>\n",
       "    <tr>\n",
       "      <th>75%</th>\n",
       "      <td>2.000000</td>\n",
       "      <td>1.000000</td>\n",
       "      <td>5.347275e+05</td>\n",
       "      <td>2.000000</td>\n",
       "      <td>52.000000</td>\n",
       "      <td>57.000000</td>\n",
       "      <td>2.000000</td>\n",
       "      <td>2.000000</td>\n",
       "    </tr>\n",
       "    <tr>\n",
       "      <th>max</th>\n",
       "      <td>2.000000</td>\n",
       "      <td>9.000000</td>\n",
       "      <td>5.305629e+06</td>\n",
       "      <td>3.000000</td>\n",
       "      <td>75.000000</td>\n",
       "      <td>89.000000</td>\n",
       "      <td>3.000000</td>\n",
       "      <td>2.000000</td>\n",
       "    </tr>\n",
       "  </tbody>\n",
       "</table>\n",
       "</div>"
      ],
      "text/plain": [
       "         surgery?         Age  Hospital Number  capillary refill time  \\\n",
       "count  299.000000  300.000000     3.000000e+02             268.000000   \n",
       "mean     1.397993    1.640000     1.085889e+06               1.305970   \n",
       "std      0.490305    2.173972     1.529801e+06               0.477629   \n",
       "min      1.000000    1.000000     5.184760e+05               1.000000   \n",
       "25%      1.000000    1.000000     5.289040e+05               1.000000   \n",
       "50%      1.000000    1.000000     5.303055e+05               1.000000   \n",
       "75%      2.000000    1.000000     5.347275e+05               2.000000   \n",
       "max      2.000000    9.000000     5.305629e+06               3.000000   \n",
       "\n",
       "       packed cell volume  total protein     outcome     cp_data  \n",
       "count          271.000000     267.000000  299.000000  300.000000  \n",
       "mean            46.295203      24.456929    1.551839    1.670000  \n",
       "std             10.419335      27.475009    0.737187    0.470998  \n",
       "min             23.000000       3.300000    1.000000    1.000000  \n",
       "25%             38.000000       6.500000    1.000000    1.000000  \n",
       "50%             45.000000       7.500000    1.000000    2.000000  \n",
       "75%             52.000000      57.000000    2.000000    2.000000  \n",
       "max             75.000000      89.000000    3.000000    2.000000  "
      ]
     },
     "execution_count": 7,
     "metadata": {},
     "output_type": "execute_result"
    }
   ],
   "source": [
    "# Произведем расчет базовых метрик для выбранных столбцов\n",
    "information_about_horses.describe()"
   ]
  },
  {
   "cell_type": "code",
   "execution_count": 8,
   "metadata": {},
   "outputs": [
    {
     "data": {
      "text/plain": [
       "surgery?                      1.0\n",
       "Age                           1.0\n",
       "Hospital Number          530305.5\n",
       "capillary refill time         1.0\n",
       "packed cell volume           45.0\n",
       "total protein                 7.5\n",
       "outcome                       1.0\n",
       "cp_data                       2.0\n",
       "dtype: float64"
      ]
     },
     "execution_count": 8,
     "metadata": {},
     "output_type": "execute_result"
    }
   ],
   "source": [
    "# Определим медиану для каждого столбца.\n",
    "information_about_horses.median()"
   ]
  },
  {
   "cell_type": "markdown",
   "metadata": {},
   "source": [
    "Из полученных результатов видно, что:\n",
    "1. В столбце \"surgery?\" отсутствует информация о проведении информации об одной лошади. Более половине лошадей операции не проводились.\n",
    "2. В столбце \"Age\" информация указана полностью, но есть выбросы. Большая часть лошадей старше полу года и являются взрослыми особями.\n",
    "3. Столбец \"Hospital Number\" не дает инфорции о лошадях, а только об их индификационном номере. Столбец заполнен полностью.\n",
    "4. В столбце \"capillary refill time\" пропущена информация о части лошадей. Присутствуют выбросы. У большей части лошадей данный показатель в норме.\n",
    "5. В столбце \"packed cell volume\" пропущена информация о части лошадей. Среднее значение находится в пределах нормы.\n",
    "6. В столбце \"total protein\" пропущена информация о части лошадей. Среднее значение сильно превышает норму, а медианнное значение входит в диапазон нормальных значений. С большой вероятностью можно говорить о наличии выбросов.\n",
    "7. В столбце \"outcome\" отсутствует информация о проведении информации об одной лошади. Большая часть лошадей осталась жива после проведенного лечения.\n",
    "8. Столбец \"cp_data\" заполнен полностью. У большинства лошадей патологии выявлены не были.\n",
    "Можно сделать вывод, что на лечение поступали лошади старше 6 месяцев без выявленных патологий, большая часть из которых после лечения оставалась жива."
   ]
  },
  {
   "cell_type": "markdown",
   "metadata": {},
   "source": [
    "### Задание 2. Работа с выбросами\n",
    "\n",
    "В выбранных числовых столбцах найти выбросы, выдвинуть гипотезы об их причинах и проинтерпретировать результаты. Принять и обосновать решение о дальнейшей работе с ними."
   ]
  },
  {
   "cell_type": "markdown",
   "metadata": {},
   "source": [
    "Числовыми столбцами являются следующие столбцы:\n",
    "* packed cell volume\n",
    "* total protein\n",
    "\n",
    "Определим выбросы используя межквартильный размах."
   ]
  },
  {
   "cell_type": "code",
   "execution_count": 9,
   "metadata": {},
   "outputs": [
    {
     "data": {
      "text/html": [
       "<div>\n",
       "<style scoped>\n",
       "    .dataframe tbody tr th:only-of-type {\n",
       "        vertical-align: middle;\n",
       "    }\n",
       "\n",
       "    .dataframe tbody tr th {\n",
       "        vertical-align: top;\n",
       "    }\n",
       "\n",
       "    .dataframe thead th {\n",
       "        text-align: right;\n",
       "    }\n",
       "</style>\n",
       "<table border=\"1\" class=\"dataframe\">\n",
       "  <thead>\n",
       "    <tr style=\"text-align: right;\">\n",
       "      <th></th>\n",
       "      <th>surgery?</th>\n",
       "      <th>Age</th>\n",
       "      <th>Hospital Number</th>\n",
       "      <th>capillary refill time</th>\n",
       "      <th>packed cell volume</th>\n",
       "      <th>total protein</th>\n",
       "      <th>outcome</th>\n",
       "      <th>cp_data</th>\n",
       "    </tr>\n",
       "  </thead>\n",
       "  <tbody>\n",
       "    <tr>\n",
       "      <th>4</th>\n",
       "      <td>2.0</td>\n",
       "      <td>1</td>\n",
       "      <td>530255</td>\n",
       "      <td>2.0</td>\n",
       "      <td>74.0</td>\n",
       "      <td>7.4</td>\n",
       "      <td>2.0</td>\n",
       "      <td>2</td>\n",
       "    </tr>\n",
       "    <tr>\n",
       "      <th>144</th>\n",
       "      <td>1.0</td>\n",
       "      <td>1</td>\n",
       "      <td>534519</td>\n",
       "      <td>1.0</td>\n",
       "      <td>75.0</td>\n",
       "      <td>81.0</td>\n",
       "      <td>3.0</td>\n",
       "      <td>2</td>\n",
       "    </tr>\n",
       "    <tr>\n",
       "      <th>151</th>\n",
       "      <td>1.0</td>\n",
       "      <td>1</td>\n",
       "      <td>529399</td>\n",
       "      <td>2.0</td>\n",
       "      <td>75.0</td>\n",
       "      <td>NaN</td>\n",
       "      <td>2.0</td>\n",
       "      <td>1</td>\n",
       "    </tr>\n",
       "  </tbody>\n",
       "</table>\n",
       "</div>"
      ],
      "text/plain": [
       "     surgery?  Age  Hospital Number  capillary refill time  \\\n",
       "4         2.0    1           530255                    2.0   \n",
       "144       1.0    1           534519                    1.0   \n",
       "151       1.0    1           529399                    2.0   \n",
       "\n",
       "     packed cell volume  total protein  outcome  cp_data  \n",
       "4                  74.0            7.4      2.0        2  \n",
       "144                75.0           81.0      3.0        2  \n",
       "151                75.0            NaN      2.0        1  "
      ]
     },
     "execution_count": 9,
     "metadata": {},
     "output_type": "execute_result"
    }
   ],
   "source": [
    "# Определим верхнюю и нижнюю границу нормальных значений в столбце packed cell volume.\n",
    "IQR_PCV = df['packed cell volume'].quantile(0.75) - df['packed cell volume'].quantile(0.25)\n",
    "lower_outlier_PCV = df['packed cell volume'].quantile(0.25) - 1.5 * IQR_PCV\n",
    "higher_outlier_PCV = df['packed cell volume'].quantile(0.75) + 1.5 * IQR_PCV\n",
    "# Выведем выбросы в столбце packed cell volume\n",
    "information_about_horses[(information_about_horses['packed cell volume'] < lower_outlier_PCV) | \n",
    "                         (information_about_horses['packed cell volume'] > higher_outlier_PCV)]"
   ]
  },
  {
   "cell_type": "code",
   "execution_count": 10,
   "metadata": {},
   "outputs": [
    {
     "data": {
      "text/plain": [
       "73.0"
      ]
     },
     "execution_count": 10,
     "metadata": {},
     "output_type": "execute_result"
    }
   ],
   "source": [
    "# Выведем значение верхней границы\n",
    "higher_outlier_PCV"
   ]
  },
  {
   "cell_type": "markdown",
   "metadata": {},
   "source": [
    "Три значения были определены как выбросы. Они немногим превышают значение верхней границы рассматриваемого диапазона. Требуется принять указанные значения в работу, так как данные значения могли появиться у лошадей при сильном заболевании. Как мы видим из данных, две лошади из трех погибли. Таким образом, выбросы являются естественными."
   ]
  },
  {
   "cell_type": "code",
   "execution_count": 11,
   "metadata": {},
   "outputs": [
    {
     "data": {
      "text/html": [
       "<div>\n",
       "<style scoped>\n",
       "    .dataframe tbody tr th:only-of-type {\n",
       "        vertical-align: middle;\n",
       "    }\n",
       "\n",
       "    .dataframe tbody tr th {\n",
       "        vertical-align: top;\n",
       "    }\n",
       "\n",
       "    .dataframe thead th {\n",
       "        text-align: right;\n",
       "    }\n",
       "</style>\n",
       "<table border=\"1\" class=\"dataframe\">\n",
       "  <thead>\n",
       "    <tr style=\"text-align: right;\">\n",
       "      <th></th>\n",
       "      <th>surgery?</th>\n",
       "      <th>Age</th>\n",
       "      <th>Hospital Number</th>\n",
       "      <th>capillary refill time</th>\n",
       "      <th>packed cell volume</th>\n",
       "      <th>total protein</th>\n",
       "      <th>outcome</th>\n",
       "      <th>cp_data</th>\n",
       "    </tr>\n",
       "  </thead>\n",
       "  <tbody>\n",
       "  </tbody>\n",
       "</table>\n",
       "</div>"
      ],
      "text/plain": [
       "Empty DataFrame\n",
       "Columns: [surgery?, Age, Hospital Number, capillary refill time, packed cell volume, total protein, outcome, cp_data]\n",
       "Index: []"
      ]
     },
     "execution_count": 11,
     "metadata": {},
     "output_type": "execute_result"
    }
   ],
   "source": [
    "# Определим верхнюю и нижнюю границу нормальных значений в столбце total protein.\n",
    "IQR_TP = df['total protein'].quantile(0.75) - df['total protein'].quantile(0.25)\n",
    "lower_outlier_TP = df['total protein'].quantile(0.25) - 1.5 * IQR_TP\n",
    "higher_outlier_TP = df['total protein'].quantile(0.75) + 1.5 * IQR_TP\n",
    "# Выведем выбросы в столбце total protein.\n",
    "information_about_horses[(information_about_horses['total protein'] < lower_outlier_TP) | \n",
    "                         (information_about_horses['total protein'] > higher_outlier_TP)]"
   ]
  },
  {
   "cell_type": "code",
   "execution_count": 12,
   "metadata": {},
   "outputs": [
    {
     "data": {
      "text/plain": [
       "-69.25"
      ]
     },
     "execution_count": 12,
     "metadata": {},
     "output_type": "execute_result"
    }
   ],
   "source": [
    "# Выведем значение нижней границы\n",
    "lower_outlier_TP "
   ]
  },
  {
   "cell_type": "code",
   "execution_count": 13,
   "metadata": {},
   "outputs": [
    {
     "data": {
      "text/plain": [
       "132.75"
      ]
     },
     "execution_count": 13,
     "metadata": {},
     "output_type": "execute_result"
    }
   ],
   "source": [
    "# Выведем значение верхней границы границы\n",
    "higher_outlier_TP"
   ]
  },
  {
   "cell_type": "markdown",
   "metadata": {},
   "source": [
    "Не смотря на то, что в столбце total protein имеется сильный разброс значений от стандартных (нормальное значение находится в диапазоне 6-7,5 (гмс/дЛ)) выбросы не найдены."
   ]
  },
  {
   "cell_type": "markdown",
   "metadata": {},
   "source": [
    "### Задание 3. Работа с пропусками\n",
    "\n",
    "Рассчитать количество пропусков для всех выбранных столбцов. Принять и обосновать решение о методе работы с пропусками по каждому столбцу, сформировать датафрейм, в котором пропуски будут отсутствовать."
   ]
  },
  {
   "cell_type": "code",
   "execution_count": 14,
   "metadata": {},
   "outputs": [
    {
     "data": {
      "text/plain": [
       "surgery?                  1\n",
       "Age                       0\n",
       "Hospital Number           0\n",
       "capillary refill time    32\n",
       "packed cell volume       29\n",
       "total protein            33\n",
       "outcome                   1\n",
       "cp_data                   0\n",
       "dtype: int64"
      ]
     },
     "execution_count": 14,
     "metadata": {},
     "output_type": "execute_result"
    }
   ],
   "source": [
    "# Найдем суммарное значение пропусков для всех столбцов\n",
    "information_about_horses.isna().sum()"
   ]
  },
  {
   "cell_type": "code",
   "execution_count": 15,
   "metadata": {},
   "outputs": [],
   "source": [
    "# Пропуски в столбце \"surgery?\" заменим медианным значением, так как наличие информации о проведении операции можно расчитать, используя аналогичные значения из других столбцов\n",
    "information_about_horses['surgery?'].fillna(information_about_horses.groupby(['Age', 'cp_data'])['surgery?'].transform('median'), inplace=True)"
   ]
  },
  {
   "cell_type": "code",
   "execution_count": 16,
   "metadata": {},
   "outputs": [],
   "source": [
    "# Пропуски в столбце \"capillary refill time\" заполним медианным значением, используя группировку по столбцаб об информации о проведении операции и итогах лечения\n",
    "information_about_horses['capillary refill time'].fillna(information_about_horses.groupby(['surgery?', 'outcome'])['capillary refill time'].transform('median'), inplace=True)"
   ]
  },
  {
   "cell_type": "code",
   "execution_count": 17,
   "metadata": {},
   "outputs": [],
   "source": [
    "# Пропуски в столбце \"packed cell volume\" заполним медианным значением, чтобы минимизировать изменения при статистическом анализе данных.\n",
    "information_about_horses['packed cell volume'].fillna(information_about_horses['packed cell volume'].median(), inplace=True)"
   ]
  },
  {
   "cell_type": "code",
   "execution_count": 18,
   "metadata": {},
   "outputs": [],
   "source": [
    "# Пропуски в столбце \"total protein\" заполним медианным значением, чтобы минимизировать изменения при статистическом анализе данных.\n",
    "information_about_horses['total protein'].fillna(information_about_horses['total protein'].median(), inplace=True)"
   ]
  },
  {
   "cell_type": "code",
   "execution_count": 19,
   "metadata": {},
   "outputs": [],
   "source": [
    "# Пропуски в столбце \"outcome\" заполним медианным значением, используя группировку по столбцаб об информации о возврасте и наличии патологий\n",
    "information_about_horses['outcome'].fillna(information_about_horses.groupby(['Age', 'cp_data'])['outcome'].transform('median'), inplace=True)"
   ]
  },
  {
   "cell_type": "code",
   "execution_count": 20,
   "metadata": {},
   "outputs": [
    {
     "data": {
      "text/plain": [
       "surgery?                 0\n",
       "Age                      0\n",
       "Hospital Number          0\n",
       "capillary refill time    0\n",
       "packed cell volume       0\n",
       "total protein            0\n",
       "outcome                  0\n",
       "cp_data                  0\n",
       "dtype: int64"
      ]
     },
     "execution_count": 20,
     "metadata": {},
     "output_type": "execute_result"
    }
   ],
   "source": [
    "# Проверим наличие пропусков в столбцах.\n",
    "information_about_horses.isna().sum()"
   ]
  },
  {
   "cell_type": "code",
   "execution_count": 21,
   "metadata": {},
   "outputs": [
    {
     "data": {
      "text/html": [
       "<div>\n",
       "<style scoped>\n",
       "    .dataframe tbody tr th:only-of-type {\n",
       "        vertical-align: middle;\n",
       "    }\n",
       "\n",
       "    .dataframe tbody tr th {\n",
       "        vertical-align: top;\n",
       "    }\n",
       "\n",
       "    .dataframe thead th {\n",
       "        text-align: right;\n",
       "    }\n",
       "</style>\n",
       "<table border=\"1\" class=\"dataframe\">\n",
       "  <thead>\n",
       "    <tr style=\"text-align: right;\">\n",
       "      <th></th>\n",
       "      <th>surgery?</th>\n",
       "      <th>Age</th>\n",
       "      <th>Hospital Number</th>\n",
       "      <th>capillary refill time</th>\n",
       "      <th>packed cell volume</th>\n",
       "      <th>total protein</th>\n",
       "      <th>outcome</th>\n",
       "      <th>cp_data</th>\n",
       "    </tr>\n",
       "  </thead>\n",
       "  <tbody>\n",
       "    <tr>\n",
       "      <th>count</th>\n",
       "      <td>300.000000</td>\n",
       "      <td>300.000000</td>\n",
       "      <td>3.000000e+02</td>\n",
       "      <td>300.000000</td>\n",
       "      <td>300.000000</td>\n",
       "      <td>300.000000</td>\n",
       "      <td>300.000000</td>\n",
       "      <td>300.000000</td>\n",
       "    </tr>\n",
       "    <tr>\n",
       "      <th>mean</th>\n",
       "      <td>1.396667</td>\n",
       "      <td>1.640000</td>\n",
       "      <td>1.085889e+06</td>\n",
       "      <td>1.280000</td>\n",
       "      <td>46.170000</td>\n",
       "      <td>22.591667</td>\n",
       "      <td>1.550000</td>\n",
       "      <td>1.670000</td>\n",
       "    </tr>\n",
       "    <tr>\n",
       "      <th>std</th>\n",
       "      <td>0.490023</td>\n",
       "      <td>2.173972</td>\n",
       "      <td>1.529801e+06</td>\n",
       "      <td>0.464384</td>\n",
       "      <td>9.908584</td>\n",
       "      <td>26.453849</td>\n",
       "      <td>0.736642</td>\n",
       "      <td>0.470998</td>\n",
       "    </tr>\n",
       "    <tr>\n",
       "      <th>min</th>\n",
       "      <td>1.000000</td>\n",
       "      <td>1.000000</td>\n",
       "      <td>5.184760e+05</td>\n",
       "      <td>1.000000</td>\n",
       "      <td>23.000000</td>\n",
       "      <td>3.300000</td>\n",
       "      <td>1.000000</td>\n",
       "      <td>1.000000</td>\n",
       "    </tr>\n",
       "    <tr>\n",
       "      <th>25%</th>\n",
       "      <td>1.000000</td>\n",
       "      <td>1.000000</td>\n",
       "      <td>5.289040e+05</td>\n",
       "      <td>1.000000</td>\n",
       "      <td>39.000000</td>\n",
       "      <td>6.600000</td>\n",
       "      <td>1.000000</td>\n",
       "      <td>1.000000</td>\n",
       "    </tr>\n",
       "    <tr>\n",
       "      <th>50%</th>\n",
       "      <td>1.000000</td>\n",
       "      <td>1.000000</td>\n",
       "      <td>5.303055e+05</td>\n",
       "      <td>1.000000</td>\n",
       "      <td>45.000000</td>\n",
       "      <td>7.500000</td>\n",
       "      <td>1.000000</td>\n",
       "      <td>2.000000</td>\n",
       "    </tr>\n",
       "    <tr>\n",
       "      <th>75%</th>\n",
       "      <td>2.000000</td>\n",
       "      <td>1.000000</td>\n",
       "      <td>5.347275e+05</td>\n",
       "      <td>2.000000</td>\n",
       "      <td>50.000000</td>\n",
       "      <td>53.250000</td>\n",
       "      <td>2.000000</td>\n",
       "      <td>2.000000</td>\n",
       "    </tr>\n",
       "    <tr>\n",
       "      <th>max</th>\n",
       "      <td>2.000000</td>\n",
       "      <td>9.000000</td>\n",
       "      <td>5.305629e+06</td>\n",
       "      <td>3.000000</td>\n",
       "      <td>75.000000</td>\n",
       "      <td>89.000000</td>\n",
       "      <td>3.000000</td>\n",
       "      <td>2.000000</td>\n",
       "    </tr>\n",
       "  </tbody>\n",
       "</table>\n",
       "</div>"
      ],
      "text/plain": [
       "         surgery?         Age  Hospital Number  capillary refill time  \\\n",
       "count  300.000000  300.000000     3.000000e+02             300.000000   \n",
       "mean     1.396667    1.640000     1.085889e+06               1.280000   \n",
       "std      0.490023    2.173972     1.529801e+06               0.464384   \n",
       "min      1.000000    1.000000     5.184760e+05               1.000000   \n",
       "25%      1.000000    1.000000     5.289040e+05               1.000000   \n",
       "50%      1.000000    1.000000     5.303055e+05               1.000000   \n",
       "75%      2.000000    1.000000     5.347275e+05               2.000000   \n",
       "max      2.000000    9.000000     5.305629e+06               3.000000   \n",
       "\n",
       "       packed cell volume  total protein     outcome     cp_data  \n",
       "count          300.000000     300.000000  300.000000  300.000000  \n",
       "mean            46.170000      22.591667    1.550000    1.670000  \n",
       "std              9.908584      26.453849    0.736642    0.470998  \n",
       "min             23.000000       3.300000    1.000000    1.000000  \n",
       "25%             39.000000       6.600000    1.000000    1.000000  \n",
       "50%             45.000000       7.500000    1.000000    2.000000  \n",
       "75%             50.000000      53.250000    2.000000    2.000000  \n",
       "max             75.000000      89.000000    3.000000    2.000000  "
      ]
     },
     "execution_count": 21,
     "metadata": {},
     "output_type": "execute_result"
    }
   ],
   "source": [
    "# Произведем повторный расчет базовых метрик для выбранных столбцов\n",
    "information_about_horses.describe()"
   ]
  },
  {
   "cell_type": "markdown",
   "metadata": {},
   "source": [
    "## Дополнительная часть (необязательная)\n",
    "\n",
    "Выполнить задания 1-3 для всего набора данных."
   ]
  },
  {
   "cell_type": "markdown",
   "metadata": {},
   "source": [
    "#### ПРИМЕЧАНИЕ\n",
    "Домашнее задание сдается ссылкой на репозиторий [GitHub](https://github.com/).\n",
    "Не сможем проверить или помочь, если вы пришлете:\n",
    "- файлы;\n",
    "- архивы;\n",
    "- скриншоты кода.\n",
    "\n",
    "Все обсуждения и консультации по выполнению домашнего задания ведутся только на соответствующем канале в slack.\n",
    "\n",
    "##### Как правильно задавать вопросы аспирантам, преподавателям и коллегам\n",
    "Прежде чем задать вопрос, попробуйте найти ответ в интернете. Навык самостоятельного поиска информации — один из важнейших. Каждый практикующий специалист любого уровня делает это ежедневно.\n",
    "\n",
    "Сформулируйте вопрос по алгоритму:  \n",
    "1) Что я делаю?  \n",
    "2) Какого результата я ожидаю?  \n",
    "3) Как фактический результат отличается от ожидаемого?  \n",
    "4) Что я уже попробовал сделать, чтобы исправить проблему?  \n",
    "\n",
    "По возможности прикрепите к вопросу скриншоты либо ссылки на код. Не выкладывайте все решение, оставляйте только проблемный и воспроизводимый участок кода."
   ]
  }
 ],
 "metadata": {
  "kernelspec": {
   "display_name": "Python 3",
   "language": "python",
   "name": "python3"
  },
  "language_info": {
   "codemirror_mode": {
    "name": "ipython",
    "version": 3
   },
   "file_extension": ".py",
   "mimetype": "text/x-python",
   "name": "python",
   "nbconvert_exporter": "python",
   "pygments_lexer": "ipython3",
   "version": "3.6.5"
  }
 },
 "nbformat": 4,
 "nbformat_minor": 2
}
