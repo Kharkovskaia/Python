{
 "cells": [
  {
   "cell_type": "markdown",
   "metadata": {},
   "source": [
    "# Задание 1\n",
    "Дана переменная, в которой хранится слово из латинских букв. Напишите код, который выводит на экран:\n",
    "\n",
    "* среднюю букву, если число букв в слове нечетное;\n",
    "* две средних буквы, если число букв четное."
   ]
  },
  {
   "cell_type": "code",
   "execution_count": 8,
   "metadata": {},
   "outputs": [
    {
     "name": "stdout",
     "output_type": "stream",
     "text": [
      "Результат:\n",
      " es\n"
     ]
    }
   ],
   "source": [
    "len_word = int(len(word))\n",
    "if len_word % 2 == 0:\n",
    "    print('Результат:\\n', word[int(len_word / 2 - 1):int(len_word / 2 + 1)])\n",
    "else:\n",
    "    print('Результат:\\n', word[int(len(word) / 2)])"
   ]
  },
  {
   "cell_type": "markdown",
   "metadata": {},
   "source": [
    "# Задание 2\n",
    "Напишите программу, которая последовательно запрашивает у пользователя числа (по одному за раз) и после первого нуля выводит сумму всех ранее введенных чисел."
   ]
  },
  {
   "cell_type": "code",
   "execution_count": 9,
   "metadata": {},
   "outputs": [
    {
     "name": "stdout",
     "output_type": "stream",
     "text": [
      "Введите число: 2\n",
      "Введите число: 0\n",
      "Результат:\n",
      " 2.0\n"
     ]
    }
   ],
   "source": [
    "number = 1\n",
    "sum_of_numbers = 0\n",
    "while True:\n",
    "    number = float(input('Введите число: ')) #Используем float, так как не указано, что числа целые\n",
    "    if number == 0:\n",
    "        break\n",
    "    sum_of_numbers += number \n",
    "print('Результат:\\n', sum_of_numbers)"
   ]
  },
  {
   "cell_type": "markdown",
   "metadata": {},
   "source": [
    "# Задание 3\n",
    "Мы делаем MVP dating-сервиса, и у нас есть список парней и девушек.\n",
    "Выдвигаем гипотезу: лучшие рекомендации мы получим, если просто отсортируем имена по алфавиту и познакомим людей с одинаковыми индексами после сортировки! Но мы не будем никого знакомить, если кто-то может остаться без пары"
   ]
  },
  {
   "cell_type": "code",
   "execution_count": 13,
   "metadata": {},
   "outputs": [
    {
     "name": "stdout",
     "output_type": "stream",
     "text": [
      "Результат:\n",
      "Внимание, кто-то может остаться без пары!\n"
     ]
    }
   ],
   "source": [
    "if len(boys) != len(girls):\n",
    "    print('Результат:\\nВнимание, кто-то может остаться без пары!')\n",
    "else:\n",
    "    print('Идеальные пары:')\n",
    "    boys_and_girls = zip(sorted(boys), sorted(girls))\n",
    "    for pair in boys_and_girls:\n",
    "        print(pair[0], 'и', pair[1])"
   ]
  },
  {
   "cell_type": "markdown",
   "metadata": {},
   "source": [
    "# Задание 4\n",
    "У нас есть список, содержащий информацию о среднедневной температуре в Фаренгейтах за произвольный период по странам (структура данных в примере). Необходимо написать код, который рассчитает среднюю температуру за период в Цельсиях(!) для каждой страны."
   ]
  },
  {
   "cell_type": "code",
   "execution_count": 25,
   "metadata": {},
   "outputs": [
    {
     "name": "stdout",
     "output_type": "stream",
     "text": [
      "Результат:\n",
      "\n",
      "Средняя температура в странах:\n",
      "Thailand - 23.9 C\n",
      "Germany - 13.8 C\n",
      "Russia - 3.7 C\n",
      "Poland - 12.0 C\n"
     ]
    }
   ],
   "source": [
    "countries_temp = []\n",
    "for country in countries_temperature:\n",
    "    temperature_sum = 0\n",
    "    n = 0\n",
    "    for temperature in country[1]:\n",
    "        temperature_sum += (float(temperature) - 32) * 5 / 9\n",
    "        n += 1\n",
    "    temp = temperature_sum / n\n",
    "    countries_temp.append([country[0], temp])\n",
    "print('Результат:\\n\\nСредняя температура в странах:')\n",
    "for _ in countries_temp:\n",
    "    print(_[0], '-',  round(_[1], 1), 'C')"
   ]
  },
  {
   "cell_type": "markdown",
   "metadata": {},
   "source": [
    "# Задание 5 (необязательное)\n",
    "Дан поток логов по количеству просмотренных страниц для каждого пользователя. Вам необходимо написать алгоритм, который считает среднее значение просмотров на пользователя. Т. е. надо посчитать отношение суммы всех просмотров к количеству уникальных пользователей."
   ]
  },
  {
   "cell_type": "code",
   "execution_count": 49,
   "metadata": {},
   "outputs": [
    {
     "name": "stdout",
     "output_type": "stream",
     "text": [
      "Результат:\n",
      "Среднее количество просмотров на уникального пользователя: 145.33\n"
     ]
    }
   ],
   "source": [
    "sum_view = 0\n",
    "users = []\n",
    "\n",
    "for user in stream:\n",
    "    view = float(user.split(',')[2])\n",
    "    sum_view += view\n",
    "    users.append(user.split(',')[1])\n",
    "\n",
    "print('Результат:\\nСреднее количество просмотров на уникального пользователя:', round(sum_view / len(set(users)), 2))"
   ]
  },
  {
   "cell_type": "markdown",
   "metadata": {},
   "source": [
    "# Задание 6 (необязательное)\n",
    "Необходимо у пользователя запрашивать набор чисел разделенных пробелом. В результате должны выводиться числа, которые повторяются в вводе более одного раза."
   ]
  },
  {
   "cell_type": "code",
   "execution_count": 66,
   "metadata": {},
   "outputs": [
    {
     "name": "stdout",
     "output_type": "stream",
     "text": [
      "Введите числа:4 8 0 3 4 2 0 3\n",
      "0  3  4  "
     ]
    }
   ],
   "source": [
    "numbers_str = input('Введите числа:')\n",
    "numbers_list = numbers_str.split(' ')\n",
    "for _ in set(numbers_list):\n",
    "    numbers_list.remove(_)\n",
    "for number in sorted(set(numbers_list)):\n",
    "    print(number, ' ', end='')"
   ]
  }
 ],
 "metadata": {
  "kernelspec": {
   "display_name": "Python 3",
   "language": "python",
   "name": "python3"
  },
  "language_info": {
   "codemirror_mode": {
    "name": "ipython",
    "version": 3
   },
   "file_extension": ".py",
   "mimetype": "text/x-python",
   "name": "python",
   "nbconvert_exporter": "python",
   "pygments_lexer": "ipython3",
   "version": "3.6.5"
  }
 },
 "nbformat": 4,
 "nbformat_minor": 2
}
