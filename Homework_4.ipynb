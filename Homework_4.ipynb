{
 "cells": [
  {
   "cell_type": "markdown",
   "metadata": {},
   "source": [
    "<h1 style=\"text-align: center;\"> Домашнее задание к лекции «Функции»"
   ]
  },
  {
   "cell_type": "markdown",
   "metadata": {},
   "source": [
    "### Исходные данные:\n",
    "* перечень всех документов"
   ]
  },
  {
   "cell_type": "code",
   "execution_count": null,
   "metadata": {},
   "outputs": [],
   "source": [
    "documents = [\n",
    "{'type': 'passport', 'number': '2207 876234', 'name': 'Василий Гупкин'},\n",
    "{'type': 'invoice', 'number': '11-2', 'name': 'Геннадий Покемонов'},\n",
    "{'type': 'insurance', 'number': '10006', 'name': 'Аристарх Павлов'}\n",
    "]"
   ]
  },
  {
   "cell_type": "markdown",
   "metadata": {},
   "source": [
    "* перечень полок, на которых хранятся документы (если документ есть в documents, то он обязательно должен быть и в directories)"
   ]
  },
  {
   "cell_type": "code",
   "execution_count": null,
   "metadata": {},
   "outputs": [],
   "source": [
    "directories = {\n",
    "'1': ['2207 876234', '11-2'],\n",
    "'2': ['10006'],\n",
    "'3': []\n",
    "}"
   ]
  },
  {
   "cell_type": "markdown",
   "metadata": {},
   "source": [
    "### Решение"
   ]
  },
  {
   "cell_type": "code",
   "execution_count": null,
   "metadata": {},
   "outputs": [],
   "source": [
    "def name(number):\n",
    "    \"\"\"\n",
    "    Пользователь по команде “p” может узнать владельца документа по его номеру\n",
    "    \"\"\"\n",
    "    for document in documents:\n",
    "        if document['number'] == number:\n",
    "            result = (f'Результат: Владелец документа: {[num.get(\"name\") for num in documents if num[\"number\"] == number][0]}')\n",
    "            return result\n",
    "    result = (f'Результат: Документ не найден в базе')\n",
    "    return result"
   ]
  },
  {
   "cell_type": "code",
   "execution_count": null,
   "metadata": {},
   "outputs": [],
   "source": [
    "def shelf(number):\n",
    "    \"\"\"\n",
    "    Пользователь по команде “s” может по номеру документа узнать на какой полке он хранится\n",
    "    \"\"\"\n",
    "    for directory in directories:\n",
    "        if directories[directory].count(number) != 0:\n",
    "            return directory\n",
    "    directory = (f'Результат: Документ не найден в базе')\n",
    "    return directory      "
   ]
  },
  {
   "cell_type": "code",
   "execution_count": null,
   "metadata": {},
   "outputs": [],
   "source": [
    "def information():\n",
    "    \"\"\"\n",
    "    Пользователь по команде “l” может увидеть полную информацию по всем документам\n",
    "    \"\"\"\n",
    "    result = []\n",
    "    for document in documents:\n",
    "        result.append(f'№: {document[\"number\"]}, тип: {document[\"type\"]}, владелец: {document[\"name\"]}, полка хренения: {shelf(document[\"number\"])}')\n",
    "    return result"
   ]
  },
  {
   "cell_type": "code",
   "execution_count": null,
   "metadata": {},
   "outputs": [],
   "source": [
    "def new_shelf(number):\n",
    "    \"\"\"\n",
    "    Пользователь по команде “as” может добавить новую полку\n",
    "    \"\"\"\n",
    "    if number in directories.keys():\n",
    "        result = (f'Результат: Такая полка уже существует. Текущий перечень полок: {\", \".join(list(directories.keys()))}')\n",
    "        return result\n",
    "    else:\n",
    "        directories[number] = []\n",
    "        result = (f'Результат: Полка добавлена. Текущий перечень полок: {\", \".join(list(directories.keys()))}')\n",
    "        return result"
   ]
  },
  {
   "cell_type": "code",
   "execution_count": null,
   "metadata": {},
   "outputs": [],
   "source": [
    "def delete_shelf(number):\n",
    "    \"\"\"\n",
    "    Пользователь по команде “ds” может удалить существующую полку из данных (только если она пустая)\n",
    "    \"\"\"\n",
    "    if number in directories.keys(): \n",
    "        if len(directories[number]) != 0:\n",
    "            result = (f'Результат: На полке есть документ, удалите их перед удалением полки. Текущий перечень полок: {\", \".join(list(directories.keys()))}')\n",
    "            return result\n",
    "        else:\n",
    "            del(directories[number])\n",
    "            result = (f'Результат: Полка удалена. Текущий перечень полок: {\", \".join(list(directories.keys()))}')\n",
    "            return result\n",
    "    else:\n",
    "        result = (f'Такой полки не существует. Текущий перечень полок: {\", \".join(list(directories.keys()))}')\n",
    "        return result"
   ]
  },
  {
   "cell_type": "code",
   "execution_count": null,
   "metadata": {},
   "outputs": [],
   "source": [
    "def new_document():\n",
    "    \"\"\"\n",
    "    Пользователь по команде “ad” может добавить новый документ в данные\n",
    "    \"\"\"\n",
    "    number = input('Введите номер документа:\\n')\n",
    "    type_ = input('Введите тип документа:\\n')\n",
    "    name = input('Введите владельца документа:\\n')\n",
    "    shelf = input('Введите полку для хранения:\\n')\n",
    "    if shelf in directories.keys():\n",
    "        list_1 = ('type', 'number', 'name')\n",
    "        list_2 = (type_, number, name)\n",
    "        documents.append(dict(zip(list_1, list_2)))\n",
    "        directories[shelf].append(number)\n",
    "        result = (f'Документ добавлен. Текущий список документов:')\n",
    "        return result\n",
    "    else:\n",
    "        result = (f'Такой полки не существует. Добавьте полку командой as.Текущий список документов:')\n",
    "        return result"
   ]
  },
  {
   "cell_type": "code",
   "execution_count": null,
   "metadata": {},
   "outputs": [],
   "source": [
    "def delete_document():\n",
    "    \"\"\"\n",
    "    Пользователь по команде “d” может удалить документ из данных\n",
    "    \"\"\"\n",
    "    number = input('Введите номер документа:\\n')\n",
    "    if name(number) != 'Результат: Документ не найден в базе':\n",
    "        for document in documents:\n",
    "            if document['number'] == number:\n",
    "                documents.remove(document)\n",
    "        shelf_number = shelf(number)\n",
    "        directories[shelf_number].remove(number)\n",
    "        result = (f'Документ удален')\n",
    "        return result\n",
    "    else:\n",
    "        result = (f'Документ не найден в базе. Текущий список документов:')\n",
    "        return result"
   ]
  },
  {
   "cell_type": "code",
   "execution_count": null,
   "metadata": {},
   "outputs": [],
   "source": [
    "def move():\n",
    "    \"\"\"\n",
    "    Пользователь по команде “m” может переместить документ с полки на полку\n",
    "    \"\"\"\n",
    "    number = input('Введите номер документа:\\n')\n",
    "    shelf_new = input('Введите номер полки:\\n')\n",
    "    if (shelf_new in directories.keys()) and (name(number) != 'Результат: Документ не найден в базе'):\n",
    "        shelf_number = shelf(number)\n",
    "        directories[shelf_number].remove(number)\n",
    "        directories[shelf_new].append(number)\n",
    "        return (f'Документ перемещен.Текущий список документов:')\n",
    "    elif (shelf_new not in directories.keys()) and (name(number) != 'Результат: Документ не найден в базе'):\n",
    "        return (f'Такой полки не существует. Текущий список документов:')\n",
    "    elif (shelf_new in directories.keys()) and (name(number) == 'Результат: Документ не найден в базе'):\n",
    "        return (f'Документ не найден в базе. Текущий список документов:')\n",
    "    else:\n",
    "        return (f'Документ не найден в базе. Такой полки не существует. Текущий список документов:')"
   ]
  },
  {
   "cell_type": "code",
   "execution_count": null,
   "metadata": {},
   "outputs": [],
   "source": [
    "def main():\n",
    "    while True:\n",
    "        user_input = input('Введите команду: \\n')\n",
    "        if user_input == 'p':\n",
    "            # Пользователь по команде “p” может узнать владельца документа по его номеру\n",
    "            number = input('Введите номер документа:\\n')            \n",
    "            print(name(number))\n",
    "        elif user_input == 's':\n",
    "            # Пользователь по команде “s” может по номеру документа узнать на какой полке он хранится\n",
    "            number = input('Введите номер документа:\\n')\n",
    "            print('Документ хранится на полке:', shelf(number))\n",
    "        elif user_input == 'l':\n",
    "            # ППользователь по команде “l” может увидеть полную информацию по всем документам\n",
    "            list(map(print, information()))\n",
    "        elif user_input == 'as':\n",
    "            # Пользователь по команде “as” может добавить новую полку    \n",
    "            number = input('Введите номер полки:\\n')\n",
    "            print(new_shelf(number))\n",
    "        elif user_input == 'ds':\n",
    "            # Пользователь по команде “ds” может удалить существующую полку из данных (только если она пустая)   \n",
    "            number = input('Введите номер полки:\\n')\n",
    "            print(delete_shelf(number))\n",
    "        elif user_input == 'ad':\n",
    "            #  Пользователь по команде “ad” может добавить новый документ в данные\n",
    "            print(new_document())\n",
    "            list(map(print, information()))\n",
    "        elif user_input == 'd':\n",
    "            # Пользователь по команде “d” может удалить документ из данных\n",
    "            print(delete_document())\n",
    "            list(map(print, information()))\n",
    "        elif user_input == 'm':\n",
    "            # Пользователь по команде “m” может переместить документ с полки на полку\n",
    "            print(move())  \n",
    "            list(map(print, information()))\n",
    "        elif user_input == 'q':\n",
    "            print('До свидания!')\n",
    "            break"
   ]
  },
  {
   "cell_type": "code",
   "execution_count": null,
   "metadata": {},
   "outputs": [],
   "source": [
    "main()"
   ]
  }
 ],
 "metadata": {
  "kernelspec": {
   "display_name": "Python 3",
   "language": "python",
   "name": "python3"
  },
  "language_info": {
   "codemirror_mode": {
    "name": "ipython",
    "version": 3
   },
   "file_extension": ".py",
   "mimetype": "text/x-python",
   "name": "python",
   "nbconvert_exporter": "python",
   "pygments_lexer": "ipython3",
   "version": "3.6.5"
  }
 },
 "nbformat": 4,
 "nbformat_minor": 2
}
