{
 "cells": [
  {
   "cell_type": "markdown",
   "metadata": {},
   "source": [
    "# Домашняя работа к лекции Работа с файловой системой и модули"
   ]
  },
  {
   "cell_type": "markdown",
   "metadata": {},
   "source": [
    "Переведите содержимое файла purchase_log.txt в словарь purchases вида:\n",
    "{‘1840e0b9d4’: ‘Продукты’, …}"
   ]
  },
  {
   "cell_type": "code",
   "execution_count": 1,
   "metadata": {},
   "outputs": [],
   "source": [
    "import json #Считаем, что ранее пакет не импортировали\n"
   ]
  },
  {
   "cell_type": "code",
   "execution_count": 2,
   "metadata": {},
   "outputs": [
    {
     "data": {
      "text/plain": [
       "[{'user_id': 'user_id', 'category': 'category'},\n",
       " {'user_id': '1840e0b9d4', 'category': 'Продукты'},\n",
       " {'user_id': '4e4f90fcfb', 'category': 'Электроника'},\n",
       " {'user_id': 'afea8d72fc', 'category': 'Электроника'},\n",
       " {'user_id': '373a6055fe', 'category': 'Бытовая техника'}]"
      ]
     },
     "execution_count": 2,
     "metadata": {},
     "output_type": "execute_result"
    }
   ],
   "source": [
    "with open('purchase_log.txt', 'r', encoding='utf-8') as f:\n",
    "    dict_ = []\n",
    "    for line in f:\n",
    "        dict_.append(json.loads(line.strip()))\n",
    "dict_[0:5]"
   ]
  },
  {
   "cell_type": "markdown",
   "metadata": {},
   "source": [
    "Для каждого user_id в файле visit_log.csv определите третий столбец с категорией покупки (если покупка была, сам файл visit_log.csv изменять не надо). Запишите в файл funnel.csv визиты из файла visit_log.csv, в которых были покупки с указанием категории.\n",
    "Учтите условия на данные:\n",
    "* содержимое purchase_log.txt помещается в оперативную память компьютера\n",
    "* содержимое visit_log.csv - нет; используйте только построчную обработку этого файла"
   ]
  },
  {
   "cell_type": "code",
   "execution_count": 3,
   "metadata": {},
   "outputs": [],
   "source": [
    "with open('visit_log.csv', 'r') as f_1:\n",
    "    with open('funnel.csv', 'w') as f_2:\n",
    "        for line in f_1:\n",
    "            row = line.strip().split(',')\n",
    "            for user in dict_:\n",
    "                if user['user_id'] == row[0]:\n",
    "                    row.append(user['category'])\n",
    "                    f_2.write(str(row)+ '\\n')\n",
    "                    break"
   ]
  }
 ],
 "metadata": {
  "kernelspec": {
   "display_name": "Python 3",
   "language": "python",
   "name": "python3"
  },
  "language_info": {
   "codemirror_mode": {
    "name": "ipython",
    "version": 3
   },
   "file_extension": ".py",
   "mimetype": "text/x-python",
   "name": "python",
   "nbconvert_exporter": "python",
   "pygments_lexer": "ipython3",
   "version": "3.6.5"
  }
 },
 "nbformat": 4,
 "nbformat_minor": 2
}
